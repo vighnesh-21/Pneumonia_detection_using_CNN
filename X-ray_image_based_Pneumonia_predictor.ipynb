{
 "cells": [
  {
   "cell_type": "markdown",
   "metadata": {},
   "source": [
    "# X-ray_image_based_Pneumonia_predictor"
   ]
  },
  {
   "cell_type": "markdown",
   "metadata": {},
   "source": [
    "## Importing required libraries and modules"
   ]
  },
  {
   "cell_type": "code",
   "execution_count": 1,
   "metadata": {},
   "outputs": [
    {
     "name": "stderr",
     "output_type": "stream",
     "text": [
      "Using TensorFlow backend.\n"
     ]
    },
    {
     "name": "stdout",
     "output_type": "stream",
     "text": [
      "Found 5216 images belonging to 2 classes.\n",
      "Found 624 images belonging to 2 classes.\n"
     ]
    }
   ],
   "source": [
    "'''we use convolutional neural network to make the model learn certain features from the X-ray images\n",
    "instead of learning images as in normal feed forward network ,we will feed in features of the image to the feed forward network'''\n",
    "\n",
    "#library imports\n",
    "'''we will use keras ,with tensorflow-gpu 2.0 backend'''\n",
    "from keras.preprocessing.image import ImageDataGenerator\n",
    "from keras.models import Sequential\n",
    "from keras.layers import Convolution2D, MaxPooling2D\n",
    "from keras.layers import Activation, Dropout, Flatten, Dense\n",
    "from matplotlib import pyplot as plt\n",
    "from keras.models import load_model\n",
    "from keras.preprocessing import image\n",
    "import numpy as np\n",
    "\n",
    "#mentioning the test and train directory\n",
    "'''the dataset consists of two class normal and pnuemonia,\n",
    "so basically this turns out into binary classification model'''\n",
    "\n",
    "train_data_dir = \"C:\\\\Users\\\\admin\\\\Downloads\\\\Project\\\\Train3\"\n",
    "test_data_dir = \"C:\\\\Users\\\\admin\\\\Downloads\\\\Project\\\\Test3\"\n",
    "\n",
    "'''learning feature isnt a small task ,hence we need to provide our model with many training images,\n",
    "the fact is that,when we flip an image or give sheer,we obtain a new image but the image still retains the fetaure.\n",
    "We use this concept to increase our training dataset,and simulatniously normalise it by dividing each pixel with 255'''\n",
    "\n",
    "train_datagenerator = ImageDataGenerator(\n",
    "    rescale=1. / 255,\n",
    "    shear_range=0.2,\n",
    "    zoom_range=0.2,\n",
    "    horizontal_flip=True)\n",
    "\n",
    "test_datagenerator = ImageDataGenerator(rescale=1. / 255)\n",
    "\n",
    "training_set = train_datagenerator.flow_from_directory(\n",
    "    train_data_dir,\n",
    "    target_size=(64, 64),\n",
    "    batch_size=32,\n",
    "    class_mode='binary')\n",
    "\n",
    "testing_set = test_datagenerator.flow_from_directory(\n",
    "    test_data_dir,\n",
    "    target_size=(64, 64),\n",
    "    batch_size=256,\n",
    "    class_mode='binary')\n",
    "\n"
   ]
  },
  {
   "cell_type": "markdown",
   "metadata": {},
   "source": [
    "## Preparing the model"
   ]
  },
  {
   "cell_type": "code",
   "execution_count": 2,
   "metadata": {},
   "outputs": [
    {
     "name": "stderr",
     "output_type": "stream",
     "text": [
      "C:\\Users\\admin\\anaconda3\\envs\\tensorflow-gpu\\lib\\site-packages\\ipykernel_launcher.py:5: UserWarning: Update your `Conv2D` call to the Keras 2 API: `Conv2D(64, (3, 3), input_shape=(64, 64, 3..., activation=\"relu\")`\n",
      "  \"\"\"\n",
      "C:\\Users\\admin\\anaconda3\\envs\\tensorflow-gpu\\lib\\site-packages\\ipykernel_launcher.py:9: UserWarning: Update your `Conv2D` call to the Keras 2 API: `Conv2D(64, (3, 3), input_shape=(64, 64, 3..., activation=\"relu\")`\n",
      "  if __name__ == '__main__':\n",
      "C:\\Users\\admin\\anaconda3\\envs\\tensorflow-gpu\\lib\\site-packages\\ipykernel_launcher.py:12: UserWarning: Update your `Conv2D` call to the Keras 2 API: `Conv2D(64, (3, 3), input_shape=(64, 64, 3..., activation=\"relu\")`\n",
      "  if sys.path[0] == '':\n",
      "C:\\Users\\admin\\anaconda3\\envs\\tensorflow-gpu\\lib\\site-packages\\ipykernel_launcher.py:18: UserWarning: Update your `Dense` call to the Keras 2 API: `Dense(activation=\"relu\", units=128)`\n",
      "C:\\Users\\admin\\anaconda3\\envs\\tensorflow-gpu\\lib\\site-packages\\ipykernel_launcher.py:19: UserWarning: Update your `Dense` call to the Keras 2 API: `Dense(activation=\"sigmoid\", units=1)`\n"
     ]
    }
   ],
   "source": [
    "'''we define our convolutional neural network model,\n",
    "we use three convolutional layer each with relu activation two deal with negative outputs and each followed ny a maxpooling layer'''\n",
    "\n",
    "model =Sequential()\n",
    "model.add(Convolution2D(64,3,3, input_shape=(64,64,3),activation='relu'))\n",
    "model.add(MaxPooling2D(pool_size=(2, 2)))\n",
    "          \n",
    "\n",
    "model.add(Convolution2D(64,3,3, input_shape=(64,64,3),activation='relu'))\n",
    "model.add(MaxPooling2D(pool_size=(2, 2)))\n",
    "\n",
    "model.add(Convolution2D(64,3,3, input_shape=(64,64,3),activation='relu'))\n",
    "model.add(MaxPooling2D(pool_size=(2, 2)))\n",
    "          \n",
    "'''the output is flattened to and fed into a feed forward neural network with 128 units and relu activation followed by output\n",
    "layer with one unit with sigmoid activation to squish the value between 0 to 1,for binary classfification'''\n",
    "model.add(Flatten())\n",
    "model.add(Dense(output_dim=128,activation='relu'))\n",
    "model.add(Dense(output_dim=1,activation='sigmoid'))\n",
    "\n",
    "\n",
    "''' the model is finally compiled and used to adam optimiser for back propogation to minimise the \n",
    "binary cross entropy loss and measuring our accuracy'''\n",
    "\n",
    "model.compile(loss='binary_crossentropy',\n",
    "              optimizer='adam',\n",
    "              metrics=['accuracy'])\n",
    "\n",
    "\n",
    "\n"
   ]
  },
  {
   "cell_type": "markdown",
   "metadata": {},
   "source": [
    "## Training the model"
   ]
  },
  {
   "cell_type": "code",
   "execution_count": 3,
   "metadata": {},
   "outputs": [
    {
     "name": "stdout",
     "output_type": "stream",
     "text": [
      "Epoch 1/10\n",
      "100/100 [==============================] - 192s 2s/step - loss: 0.4369 - accuracy: 0.8091 - val_loss: 0.4263 - val_accuracy: 0.8140\n",
      "Epoch 2/10\n",
      "100/100 [==============================] - 198s 2s/step - loss: 0.2627 - accuracy: 0.8950 - val_loss: 0.3876 - val_accuracy: 0.8419\n",
      "Epoch 3/10\n",
      "100/100 [==============================] - 208s 2s/step - loss: 0.2421 - accuracy: 0.8975 - val_loss: 0.3305 - val_accuracy: 0.8428\n",
      "Epoch 4/10\n",
      "100/100 [==============================] - 210s 2s/step - loss: 0.2170 - accuracy: 0.9162 - val_loss: 0.2862 - val_accuracy: 0.8748\n",
      "Epoch 5/10\n",
      "100/100 [==============================] - 212s 2s/step - loss: 0.1878 - accuracy: 0.9259 - val_loss: 0.2411 - val_accuracy: 0.8915\n",
      "Epoch 6/10\n",
      "100/100 [==============================] - 208s 2s/step - loss: 0.1953 - accuracy: 0.9237 - val_loss: 0.4119 - val_accuracy: 0.8172\n",
      "Epoch 7/10\n",
      "100/100 [==============================] - 209s 2s/step - loss: 0.1665 - accuracy: 0.9334 - val_loss: 0.6033 - val_accuracy: 0.7147\n",
      "Epoch 8/10\n",
      "100/100 [==============================] - 212s 2s/step - loss: 0.1709 - accuracy: 0.9328 - val_loss: 0.2345 - val_accuracy: 0.8965\n",
      "Epoch 9/10\n",
      "100/100 [==============================] - 210s 2s/step - loss: 0.1765 - accuracy: 0.9350 - val_loss: 0.3109 - val_accuracy: 0.8682\n",
      "Epoch 10/10\n",
      "100/100 [==============================] - 209s 2s/step - loss: 0.1678 - accuracy: 0.9356 - val_loss: 0.2476 - val_accuracy: 0.9151\n"
     ]
    }
   ],
   "source": [
    "#training for 10 epochs\n",
    "history=model.fit_generator(training_set,\n",
    "    steps_per_epoch = 100,\n",
    "    epochs = 10, validation_data = testing_set,\n",
    "    validation_steps = 50)"
   ]
  },
  {
   "cell_type": "markdown",
   "metadata": {},
   "source": [
    "## Saving the model and plotting the data for model_accuracy and model_loss graph"
   ]
  },
  {
   "cell_type": "code",
   "execution_count": 4,
   "metadata": {},
   "outputs": [
    {
     "data": {
      "image/png": "[encoded data removed]",
      "text/plain": [
       "<Figure size 576x576 with 2 Axes>"
      ]
     },
     "metadata": {
      "needs_background": "light"
     },
     "output_type": "display_data"
    }
   ],
   "source": [
    "#saving the model and plotting the data\n",
    "model.save_weights('model_saved.h5')\n",
    "model.save('model.h5')\n",
    "acc=history.history['accuracy']\n",
    "val_acc=history.history['val_accuracy']\n",
    "loss=history.history['loss']\n",
    "val_loss=history.history['val_loss']\n",
    "epochs_range=range(10)\n",
    "from matplotlib import pyplot as plt\n",
    "plt.figure(figsize=(8,8))\n",
    "plt.subplot(1,2,1)\n",
    "plt.plot(epochs_range,acc,label='Training accuracy')\n",
    "plt.plot(epochs_range,val_acc,label='validation Accuracy')\n",
    "plt.title('model_accuracy')\n",
    "plt.ylabel('accuracy')\n",
    "plt.xlabel('epoch')\n",
    "plt.legend(['train','test'],loc='upper left')\n",
    "\n",
    "plt.subplot(1,2,2)\n",
    "plt.plot(epochs_range,loss,label='Training_loss')\n",
    "plt.plot(epochs_range,val_loss,label='Validation loss')\n",
    "plt.title('model_loss')\n",
    "plt.xlabel('epoch')\n",
    "plt.legend(['train','test'],loc='upper left')\n",
    "plt.show()"
   ]
  },
  {
   "cell_type": "markdown",
   "metadata": {},
   "source": []
  },
  {
   "cell_type": "markdown",
   "metadata": {},
   "source": [
    "## Loading the model and prediction of normal report"
   ]
  },
  {
   "cell_type": "code",
   "execution_count": 45,
   "metadata": {},
   "outputs": [],
   "source": [
    "loaded_model=load_model('model.h5')\n",
    "p1=\"C:\\\\Users\\\\admin\\\\Downloads\\\\Project\\\\c_m\\\\NORMAL\\\\\"\n",
    "from os import listdir\n",
    "from os.path import isfile, join\n",
    "onlyfiles1 = [f for f in listdir(p1) if isfile(join(p1, f))]\n",
    "test1=[0 for i in range(len(onlyfiles1))]\n",
    "pred1=[]\n",
    "for i in onlyfiles1:\n",
    "    p2=p1+i\n",
    "    test_image=image.load_img(p2,target_size=(64,64))\n",
    "    test_image=image.img_to_array(test_image)\n",
    "    test_image=np.expand_dims(test_image,axis=0)\n",
    "    result=model.predict(test_image)\n",
    "    training_set.class_indices\n",
    "    if result[0][0]==0:\n",
    "        pred1.append(0)\n",
    "    else:\n",
    "        pred1.append(1)\n",
    "\n",
    "    \n"
   ]
  },
  {
   "cell_type": "markdown",
   "metadata": {},
   "source": [
    "## Loading the model and prediction of Pneumonic report"
   ]
  },
  {
   "cell_type": "code",
   "execution_count": 46,
   "metadata": {},
   "outputs": [],
   "source": [
    "loaded_model=load_model('model.h5')\n",
    "p1=\"C:\\\\Users\\\\admin\\\\Downloads\\\\Project\\\\c_m\\\\PNEUMONIA\\\\\"\n",
    "from os import listdir\n",
    "from os.path import isfile, join\n",
    "onlyfiles2 = [f for f in listdir(p1) if isfile(join(p1, f))]\n",
    "test2=[1 for i in range(len(onlyfiles2))]\n",
    "pred2=[]\n",
    "for i in onlyfiles2:\n",
    "    p2=p1+i\n",
    "    test_image=image.load_img(p2,target_size=(64,64))\n",
    "    test_image=image.img_to_array(test_image)\n",
    "    test_image=np.expand_dims(test_image,axis=0)\n",
    "    result=model.predict(test_image)\n",
    "    training_set.class_indices\n",
    "    if result[0][0]==0:\n",
    "        pred2.append(0)\n",
    "    else:\n",
    "        pred2.append(1)\n",
    "\n",
    "    \n"
   ]
  },
  {
   "cell_type": "code",
   "execution_count": 47,
   "metadata": {},
   "outputs": [],
   "source": [
    "test=test1+test2\n",
    "pred=pred1+pred2\n",
    "\n"
   ]
  },
  {
   "cell_type": "markdown",
   "metadata": {},
   "source": [
    "## Confusion_matrix for the given model"
   ]
  },
  {
   "cell_type": "code",
   "execution_count": 48,
   "metadata": {},
   "outputs": [],
   "source": [
    "from sklearn.metrics import confusion_matrix as cn\n",
    "# from pandas_ml import ConfusionMatrix as cn\n",
    "confuse=cn(test,pred)"
   ]
  },
  {
   "cell_type": "code",
   "execution_count": 49,
   "metadata": {},
   "outputs": [
    {
     "name": "stdout",
     "output_type": "stream",
     "text": [
      "[[189  45]\n",
      " [ 20 370]]\n"
     ]
    }
   ],
   "source": [
    "print(confuse)"
   ]
  },
  {
   "cell_type": "code",
   "execution_count": null,
   "metadata": {},
   "outputs": [],
   "source": []
  }
 ],
 "metadata": {
  "kernelspec": {
   "display_name": "Python 3",
   "language": "python",
   "name": "python3"
  },
  "language_info": {
   "codemirror_mode": {
    "name": "ipython",
    "version": 3
   },
   "file_extension": ".py",
   "mimetype": "text/x-python",
   "name": "python",
   "nbconvert_exporter": "python",
   "pygments_lexer": "ipython3",
   "version": "3.7.7"
  }
 },
 "nbformat": 4,
 "nbformat_minor": 4
}
